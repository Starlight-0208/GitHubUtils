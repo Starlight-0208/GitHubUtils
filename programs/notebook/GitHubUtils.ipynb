{
 "cells": [
  {
   "cell_type": "code",
   "execution_count": 1,
   "metadata": {},
   "outputs": [],
   "source": [
    "import json\n",
    "import time\n",
    "import datetime\n",
    "import pandas\n",
    "import requests"
   ]
  },
  {
   "cell_type": "code",
   "execution_count": null,
   "metadata": {},
   "outputs": [],
   "source": [
    "rate_limit = requests.get(\"https://api.github.com/rate_limit\").json()[\"rate\"]\n",
    "# print(rate_limit.json()[\"rate\"])\n",
    "print(f\"Rate limit remaining: {rate_limit['remaining']}, reset at {datetime.datetime.fromtimestamp(rate_limit['reset'])}\")"
   ]
  },
  {
   "cell_type": "code",
   "execution_count": null,
   "metadata": {},
   "outputs": [],
   "source": [
    "username = \"insert_here\""
   ]
  },
  {
   "cell_type": "code",
   "execution_count": null,
   "metadata": {},
   "outputs": [],
   "source": [
    "page = 1\n",
    "data = []\n",
    "r = requests.get(f\"https://api.github.com/users/{username}/starred?page={page}\").json()\n",
    "print(\"Processing page 1\")\n",
    "while len(r) != 0:\n",
    "    data.extend(r)\n",
    "    page += 1\n",
    "    time.sleep(1)\n",
    "    r = requests.get(f\"https://api.github.com/users/{username}/starred?page={page}\").json()\n",
    "    print(f\"Processing page {page}\")\n"
   ]
  },
  {
   "cell_type": "code",
   "execution_count": null,
   "metadata": {},
   "outputs": [],
   "source": [
    "obj = []\n",
    "for i in data:\n",
    "    obj.append({\n",
    "        \"name\": i.get(\"name\"),\n",
    "        \"fullName\": i.get(\"full_name\"),\n",
    "        \"author\": i.get(\"owner\", {}).get(\"login\"),\n",
    "        \"repository\": i.get(\"html_url\"),\n",
    "        \"lastUpdate\": i.get(\"updated_at\"),\n",
    "        \"lastPush\":  i.get(\"pushed_at\"),\n",
    "        \"stars\": i.get(\"stargazers_count\"),\n",
    "        \"forks\": i.get(\"forks_count\"),\n",
    "        \"issues\": i.get(\"open_issues\") if i.get(\"has_issues\") else None,\n",
    "        \"language\": i.get(\"language\", None),  # Assuming 'languange' is a typo and should be 'language'\n",
    "        \"license\": i.get(\"license\", None)[\"spdx_id\"] if i.get(\"license\", None) != None else None,\n",
    "        \"description\": i.get(\"description\")\n",
    "    })\n"
   ]
  },
  {
   "cell_type": "code",
   "execution_count": null,
   "metadata": {},
   "outputs": [],
   "source": [
    "df = pandas.DataFrame(obj)\n",
    "df.to_csv(\"D:\\\\stared.scv\")"
   ]
  },
  {
   "cell_type": "code",
   "execution_count": 2,
   "metadata": {},
   "outputs": [],
   "source": [
    "# This is the filename list of Github-Ranking Markdown files\n",
    "langs = [\"ActionScript\", \"C\", \"CPP\", \"CSS\", \"CSharp\", \n",
    "         \"Clojure\", \"CoffeeScript\", \"DM\", \"Dart\", \"Elixir\", \n",
    "         \"Go\", \"Groovy\", \"HTML\", \"Haskell\", \"Java\", \"JavaScript\", \n",
    "         \"Julia\", \"Kotlin\", \"Lua\", \"MATLAB\", \"Objective-C\", \"PHP\", \n",
    "         \"Perl\", \"PowerShell\", \"Python\", \"R\", \"Ruby\", \"Rust\", \n",
    "         \"Scala\", \"Shell\", \"Swift\", \"TeX\", \"TypeScript\", \"Vim-script\"]"
   ]
  },
  {
   "cell_type": "code",
   "execution_count": null,
   "metadata": {},
   "outputs": [],
   "source": [
    "a = requests.get(\"https://github.com/EvanLi/Github-Ranking/raw/master/Top100/Top-100-stars.md\")\n"
   ]
  },
  {
   "cell_type": "code",
   "execution_count": 3,
   "metadata": {},
   "outputs": [],
   "source": [
    "import re\n",
    "def getLink(text):\n",
    "    matches = re.findall(r'\\[(.*?)\\]\\((.*?)\\)', text)\n",
    "    return matches[0]"
   ]
  },
  {
   "cell_type": "code",
   "execution_count": null,
   "metadata": {},
   "outputs": [],
   "source": [
    "c,d = getLink(\"[freeCodeCamp](https://github.com/freeCodeCamp/freeCodeCamp)\")"
   ]
  },
  {
   "cell_type": "code",
   "execution_count": null,
   "metadata": {},
   "outputs": [],
   "source": [
    "d.split(\"/\")"
   ]
  },
  {
   "cell_type": "code",
   "execution_count": 4,
   "metadata": {},
   "outputs": [],
   "source": [
    "def process_func(raw_text: str):\n",
    "    res = []\n",
    "    for i in raw_text.split(\"\\n\\n\")[2].split(\"\\n\")[2:]:\n",
    "        line = i.strip().split(\"|\")[1:-1]\n",
    "        # name, link = getLink(line[1].strip())\n",
    "        link = re.findall(r'\\[(.*?)\\]\\((.*?)\\)', line[1])[0][1]\n",
    "        res.append({\n",
    "            'rank': int(line[0].strip()),\n",
    "            # 'name': name,\n",
    "            'name': link.split('/')[-1],\n",
    "            'author': link.split('/')[-2],\n",
    "            'link': link,\n",
    "            'star': int(line[2].strip()),\n",
    "            'fork': int(line[3].strip()),\n",
    "            'language': line[4].strip(),\n",
    "            'issues': int(line[5].strip()),\n",
    "            'description': line[6].strip(),\n",
    "            'last_commit': line[7].strip()\n",
    "        })\n",
    "    return res"
   ]
  },
  {
   "cell_type": "code",
   "execution_count": null,
   "metadata": {},
   "outputs": [],
   "source": [
    "baseUrl = f\"https://github.com/EvanLi/Github-Ranking/raw/master/Top100/CPP.md\"\n",
    "raw = requests.get(baseUrl).text\n",
    "print(process_func(raw))"
   ]
  },
  {
   "cell_type": "code",
   "execution_count": 5,
   "metadata": {},
   "outputs": [
    {
     "name": "stdout",
     "output_type": "stream",
     "text": [
      "Processing Language: ActionScript\t\t\t\t\t\t\t [OK]\n",
      "Processing Language: C\t\t\t\t\t\t\t [OK]\n",
      "Processing Language: CPP\t\t\t\t\t\t\t [OK]\n",
      "Processing Language: CSS\t\t\t\t\t\t\t [OK]\n",
      "Processing Language: CSharp\t\t\t\t\t\t\t [OK]\n",
      "Processing Language: Clojure\t\t\t\t\t\t\t [OK]\n",
      "Processing Language: CoffeeScript\t\t\t\t\t\t\t [OK]\n",
      "Processing Language: DM\t\t\t\t\t\t\t [OK]\n",
      "Processing Language: Dart\t\t\t\t\t\t\t [OK]\n",
      "Processing Language: Elixir\t\t\t\t\t\t\t [OK]\n",
      "Processing Language: Go\t\t\t\t\t\t\t [OK]\n",
      "Processing Language: Groovy\t\t\t\t\t\t\t [OK]\n",
      "Processing Language: HTML\t\t\t\t\t\t\t [OK]\n",
      "Processing Language: Haskell\t\t\t\t\t\t\t [OK]\n",
      "Processing Language: Java\t\t\t\t\t\t\t [OK]\n",
      "Processing Language: JavaScript\t\t\t\t\t\t\t [OK]\n",
      "Processing Language: Julia\t\t\t\t\t\t\t [OK]\n",
      "Processing Language: Kotlin\t\t\t\t\t\t\t [OK]\n",
      "Processing Language: Lua\t\t\t\t\t\t\t [OK]\n",
      "Processing Language: MATLAB\t\t\t\t\t\t\t [OK]\n",
      "Processing Language: Objective-C\t\t\t\t\t\t\t Processing Language: PHP\t\t\t\t\t\t\t [OK]\n",
      "Processing Language: Perl\t\t\t\t\t\t\t [OK]\n",
      "Processing Language: PowerShell\t\t\t\t\t\t\t [OK]\n",
      "Processing Language: Python\t\t\t\t\t\t\t [OK]\n",
      "Processing Language: R\t\t\t\t\t\t\t [OK]\n",
      "Processing Language: Ruby\t\t\t\t\t\t\t [OK]\n",
      "Processing Language: Rust\t\t\t\t\t\t\t [OK]\n",
      "Processing Language: Scala\t\t\t\t\t\t\t [OK]\n",
      "Processing Language: Shell\t\t\t\t\t\t\t [OK]\n",
      "Processing Language: Swift\t\t\t\t\t\t\t [OK]\n",
      "Processing Language: TeX\t\t\t\t\t\t\t [OK]\n",
      "Processing Language: TypeScript\t\t\t\t\t\t\t [OK]\n",
      "Processing Language: Vim-script\t\t\t\t\t\t\t "
     ]
    }
   ],
   "source": [
    "for i in langs:\n",
    "    baseUrl = f\"https://github.com/EvanLi/Github-Ranking/raw/master/Top100/{i}.md\"\n",
    "    raw = requests.get(baseUrl).text\n",
    "    ps = process_func(raw)\n",
    "    # print(ps)\n",
    "    print(f\"Processing Language: {i}\\t\\t\\t\\t\\t\\t\\t \",end=\"\")\n",
    "    if (i == \"Objective-C\"): \n",
    "        ObjectiveC = pandas.DataFrame(ps)\n",
    "        continue\n",
    "    elif (i == \"Vim-script\"):\n",
    "        VimScript = pandas.DataFrame(ps)\n",
    "        continue\n",
    "    exec(f\"{i} = pandas.DataFrame(ps)\")\n",
    "    print(\"[OK]\")"
   ]
  },
  {
   "cell_type": "code",
   "execution_count": 8,
   "metadata": {},
   "outputs": [],
   "source": [
    "baseUrl = f\"https://github.com/EvanLi/Github-Ranking/raw/master/Top100/Top-100-stars.md\"\n",
    "raw = requests.get(baseUrl).text\n",
    "ps = process_func(raw)\n",
    "TopStars = pandas.DataFrame(ps)\n",
    "baseUrl = f\"https://github.com/EvanLi/Github-Ranking/raw/master/Top100/Top-100-forks.md\"\n",
    "raw = requests.get(baseUrl).text\n",
    "ps = process_func(raw)\n",
    "TopForks = pandas.DataFrame(ps)\n"
   ]
  },
  {
   "cell_type": "code",
   "execution_count": null,
   "metadata": {},
   "outputs": [],
   "source": [
    "resultSet = {}\n",
    "DFSet = {}\n",
    "for i in langs:\n",
    "    baseUrl = f\"https://github.com/EvanLi/Github-Ranking/raw/master/Top100/{i}.md\"\n",
    "    raw = requests.get(baseUrl).text\n",
    "    ps = process_func(raw)\n",
    "    print(f\"Processing Language: {i} \\t\\t\\t\\t\\t\\t \", end=\"\")\n",
    "    resultSet[i] = ps\n",
    "    DFSet[i] = pandas.DataFrame(ps)\n",
    "    print(\"[OK]\")"
   ]
  },
  {
   "cell_type": "code",
   "execution_count": null,
   "metadata": {},
   "outputs": [],
   "source": [
    "import os\n",
    "os.getcwd()"
   ]
  },
  {
   "cell_type": "code",
   "execution_count": 6,
   "metadata": {},
   "outputs": [],
   "source": [
    "RES_DIR = \"D:\\\\MyProject\\\\Results\"\n",
    "\n",
    "ActionScript.to_csv(f'{RES_DIR}\\\\actionscript.csv')\n",
    "C.to_csv(f'{RES_DIR}\\\\c.csv')\n",
    "CPP.to_csv(f'{RES_DIR}\\\\cpp.csv')\n",
    "CSS.to_csv(f'{RES_DIR}\\\\css.csv')\n",
    "CSharp.to_csv(f'{RES_DIR}\\\\csharp.csv')\n",
    "Clojure.to_csv(f'{RES_DIR}\\\\clojure.csv')\n",
    "CoffeeScript.to_csv(f'{RES_DIR}\\\\coffeescript.csv')\n",
    "DM.to_csv(f'{RES_DIR}\\\\dm.csv')\n",
    "Dart.to_csv(f'{RES_DIR}\\\\dart.csv')\n",
    "Elixir.to_csv(f'{RES_DIR}\\\\elixir.csv')\n",
    "Go.to_csv(f'{RES_DIR}\\\\go.csv')\n",
    "Groovy.to_csv(f'{RES_DIR}\\\\groovy.csv')\n",
    "HTML.to_csv(f'{RES_DIR}\\\\html.csv')\n",
    "Haskell.to_csv(f'{RES_DIR}\\\\haskell.csv')\n",
    "Java.to_csv(f'{RES_DIR}\\\\java.csv')\n",
    "JavaScript.to_csv(f'{RES_DIR}\\\\javascript.csv')\n",
    "Julia.to_csv(f'{RES_DIR}\\\\julia.csv')\n",
    "Kotlin.to_csv(f'{RES_DIR}\\\\kotlin.csv')\n",
    "Lua.to_csv(f'{RES_DIR}\\\\lua.csv')\n",
    "MATLAB.to_csv(f'{RES_DIR}\\\\matlab.csv')\n",
    "ObjectiveC.to_csv(f'{RES_DIR}\\\\objective-c.csv')\n",
    "PHP.to_csv(f'{RES_DIR}\\\\php.csv')\n",
    "Perl.to_csv(f'{RES_DIR}\\\\perl.csv')\n",
    "PowerShell.to_csv(f'{RES_DIR}\\\\powershell.csv')\n",
    "Python.to_csv(f'{RES_DIR}\\\\python.csv')\n",
    "R.to_csv(f'{RES_DIR}\\\\r.csv')\n",
    "Ruby.to_csv(f'{RES_DIR}\\\\ruby.csv')\n",
    "Rust.to_csv(f'{RES_DIR}\\\\rust.csv')\n",
    "Scala.to_csv(f'{RES_DIR}\\\\scala.csv')\n",
    "Shell.to_csv(f'{RES_DIR}\\\\shell.csv')\n",
    "Swift.to_csv(f'{RES_DIR}\\\\swift.csv')\n",
    "TeX.to_csv(f'{RES_DIR}\\\\tex.csv')\n",
    "TypeScript.to_csv(f'{RES_DIR}\\\\typescript.csv')\n",
    "VimScript.to_csv(f'{RES_DIR}\\\\vim-script.csv')\n"
   ]
  },
  {
   "cell_type": "code",
   "execution_count": 9,
   "metadata": {},
   "outputs": [],
   "source": [
    "TopStars.to_csv(f'{RES_DIR}\\\\Top-100-Stars.csv')\n",
    "TopForks.to_csv(f'{RES_DIR}\\\\Top-100-Forks.csv')"
   ]
  },
  {
   "cell_type": "code",
   "execution_count": null,
   "metadata": {},
   "outputs": [],
   "source": [
    "# Code Generator\n",
    "# langs = [\"ActionScript\", \"C\", \"CPP\", \"CSS\", \"CSharp\", \n",
    "#          \"Clojure\", \"CoffeeScript\", \"DM\", \"Dart\", \"Elixir\", \n",
    "#          \"Go\", \"Groovy\", \"HTML\", \"Haskell\", \"Java\", \"JavaScript\", \n",
    "#          \"Julia\", \"Kotlin\", \"Lua\", \"MATLAB\", \"Objective-C\", \"PHP\", \n",
    "#          \"Perl\", \"PowerShell\", \"Python\", \"R\", \"Ruby\", \"Rust\", \n",
    "#          \"Scala\", \"Shell\", \"Swift\", \"TeX\"]\n",
    "\n",
    "# Generate some code here\n",
    "init_code = \"\\n\".join([f\"{lang}.to_csv('D:\\\\\\\\MyProject\\\\\\\\Results\\\\\\\\{lang.lower()}.csv')\" for lang in langs])\n",
    "print(init_code.replace(\"Objective-C\", \"ObjectiveC\").replace(\"Vim-script\", \"VimScript\"))\n"
   ]
  }
 ],
 "metadata": {
  "kernelspec": {
   "display_name": "Python 3",
   "language": "python",
   "name": "python3"
  },
  "language_info": {
   "codemirror_mode": {
    "name": "ipython",
    "version": 3
   },
   "file_extension": ".py",
   "mimetype": "text/x-python",
   "name": "python",
   "nbconvert_exporter": "python",
   "pygments_lexer": "ipython3",
   "version": "3.9.13"
  }
 },
 "nbformat": 4,
 "nbformat_minor": 2
}
